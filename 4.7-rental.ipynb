{
 "cells": [
  {
   "cell_type": "code",
   "execution_count": null,
   "metadata": {},
   "outputs": [],
   "source": [
    "import numpy as np\n",
    "from typing import List, Tuple\n",
    "from dataclasses import dataclass\n",
    "import matplotlib.pyplot as plt"
   ]
  },
  {
   "cell_type": "code",
   "execution_count": null,
   "metadata": {},
   "outputs": [],
   "source": [
    "@dataclass\n",
    "class Environment:\n",
    "  values: np.ndarray\n",
    "\n",
    "  money: int\n",
    "  cars: List[int]\n",
    "\n",
    "  pay: int\n",
    "  move_cost: int\n",
    "  max_cars: int\n",
    "  max_move: int\n",
    "\n",
    "  expected_rent: List[int]\n",
    "  expected_return: List[int]\n",
    "\n",
    "  def get_rental_requests(self) -> List[int]:\n",
    "    return [np.random.poisson(lam) for lam in self.expected_rent]"
   ]
  },
  {
   "cell_type": "code",
   "execution_count": null,
   "metadata": {},
   "outputs": [],
   "source": [
    "@dataclass\n",
    "class Agent:\n",
    "  policy: np.ndarray\n",
    "  discont: float\n",
    "\n",
    "  "
   ]
  },
  {
   "cell_type": "code",
   "execution_count": 1,
   "metadata": {},
   "outputs": [
    {
     "ename": "NameError",
     "evalue": "name 'np' is not defined",
     "output_type": "error",
     "traceback": [
      "\u001b[0;31m---------------------------------------------------------------------------\u001b[0m",
      "\u001b[0;31mNameError\u001b[0m                                 Traceback (most recent call last)",
      "Cell \u001b[0;32mIn[1], line 4\u001b[0m\n\u001b[1;32m      1\u001b[0m num_branches \u001b[39m=\u001b[39m \u001b[39m2\u001b[39m\n\u001b[1;32m      2\u001b[0m max_cars \u001b[39m=\u001b[39m \u001b[39m20\u001b[39m\n\u001b[0;32m----> 4\u001b[0m initial_values \u001b[39m=\u001b[39m np\u001b[39m.\u001b[39mzeros([max_cars \u001b[39mfor\u001b[39;00m _ \u001b[39min\u001b[39;00m \u001b[39mrange\u001b[39m(num_branches)])\n\u001b[1;32m      5\u001b[0m initial_cars \u001b[39m=\u001b[39m [\u001b[39m0\u001b[39m \u001b[39mfor\u001b[39;00m _ \u001b[39min\u001b[39;00m \u001b[39mrange\u001b[39m(num_branches)]\n\u001b[1;32m      7\u001b[0m expected_rent \u001b[39m=\u001b[39m [\u001b[39m3\u001b[39m, \u001b[39m4\u001b[39m]\n",
      "\u001b[0;31mNameError\u001b[0m: name 'np' is not defined"
     ]
    }
   ],
   "source": [
    "num_branches = 2\n",
    "max_cars = 20\n",
    "\n",
    "initial_values = np.zeros([max_cars for _ in range(num_branches)])\n",
    "initial_cars = [0 for _ in range(num_branches)]\n",
    "\n",
    "expected_rent = [3, 4]\n",
    "expected_return = [3, 2]\n",
    "\n",
    "env = Environment(values=initial_values, money=0, cars=initial_cars, pay=10, move_cost=2, max_cars=max_cars, max_move=5, expected_rent=expected_rent, expected_return=expected_return)\n",
    "agent = Agent(policy=np.zeros([max_cars for _ in range(num_branches)]), discont=0.9)\n",
    "\n",
    "delta = 0\n",
    "theta = 1e-6\n",
    "\n",
    "# Policy evaluation\n",
    "while delta > theta:\n",
    "  delta = 0\n",
    "  for i in range(max_cars):\n",
    "    for j in range(max_cars):\n",
    "      v = env.values[i, j]\n",
    "      # i -> j\n",
    "      env.values[i, j] = 0\n",
    "      for k in range(-env.max_move, env.max_move + 1):\n",
    "        if i - k < 0 or j + k < 0:\n",
    "          continue\n",
    "        env.values[i, j] += 1 / (2 * env.max_move + 1) * (env.pay * min(i, env.expected_rent[0]) + env.pay * min(j, env.expected_rent[1]) - env.move_cost * abs(k) + agent.discont * env.values[i - k, j + k])\n",
    "      delta = max(delta, abs(v - env.values[i, j]))\n",
    "\n",
    "# Policy improvement\n",
    "policy_stable = True\n",
    "for i in range(max_cars):\n",
    "  for j in range(max_cars):\n",
    "    old_action = agent.policy[i, j]\n",
    "    action_values = []\n",
    "    for k in range(-env.max_move, env.max_move + 1):\n",
    "      if i - k < 0 or j + k < 0:\n",
    "        action_values.append(-np.inf)\n",
    "        continue\n",
    "      action_values.append(env.pay * min(i, env.expected_rent[0]) + env.pay * min(j, env.expected_rent[1]) - env.move_cost * abs(k) + agent.discont * env.values[i - k, j + k])\n",
    "    agent.policy[i, j] = np.argmax(action_values)\n",
    "    if old_action != agent.policy[i, j]:\n",
    "      policy_stable = False\n",
    "\n",
    "print(agent.policy)"
   ]
  }
 ],
 "metadata": {
  "kernelspec": {
   "display_name": "venv",
   "language": "python",
   "name": "python3"
  },
  "language_info": {
   "codemirror_mode": {
    "name": "ipython",
    "version": 3
   },
   "file_extension": ".py",
   "mimetype": "text/x-python",
   "name": "python",
   "nbconvert_exporter": "python",
   "pygments_lexer": "ipython3",
   "version": "3.10.8"
  },
  "orig_nbformat": 4,
  "vscode": {
   "interpreter": {
    "hash": "9492218272b791e79f77334e0fb6b09a8cae63dadc5133796f29661bcbe4d688"
   }
  }
 },
 "nbformat": 4,
 "nbformat_minor": 2
}
