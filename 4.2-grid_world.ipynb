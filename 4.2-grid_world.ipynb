{
 "cells": [
  {
   "cell_type": "code",
   "execution_count": null,
   "outputs": [],
   "source": [
    "import numpy as np\n",
    "\n",
    "v = np.array([0.0 for _ in range(17)])\n",
    "\n",
    "theta = 1e-10\n",
    "gamma = 1.0\n",
    "\n",
    "index = 0\n",
    "while True:\n",
    "    index += 1\n",
    "    if index % 10 == 0:\n",
    "        print(index)\n",
    "    delta = 0\n",
    "    for state in range(1, 15):\n",
    "        vs_old = v[state]\n",
    "        vs = 0.0\n",
    "        for action in [-4, -1, 1, 4]:\n",
    "            next_state = state + action\n",
    "            if next_state < 0:\n",
    "                next_state = state\n",
    "            if next_state > 15:\n",
    "                # 13 だけはみ出て下行く\n",
    "                if state == 13:\n",
    "                    next_state = 16\n",
    "                else:\n",
    "                    next_state = state\n",
    "            if state % 4 == 3 and action == 1:\n",
    "                next_state = state\n",
    "            if state % 4 == 0 and action == -1:\n",
    "                next_state = state\n",
    "\n",
    "            r = -1\n",
    "            vs += 0.25 * (1.0 * (r + gamma * v[next_state]))\n",
    "\n",
    "        v[state] = vs\n",
    "        delta = max(delta, abs(vs_old - vs))\n",
    "\n",
    "    vs_old = v[16]\n",
    "    vs = 0.0\n",
    "    for next_state in [12, 13, 14, 16]:\n",
    "        r = -1\n",
    "\n",
    "        vs += 0.25 * (1.0 * (r + gamma * v[next_state]))\n",
    "\n",
    "    v[16] = vs\n",
    "\n",
    "    delta = max(delta, abs(vs_old - vs))\n",
    "    if delta < theta:\n",
    "        break\n",
    "\n",
    "print(v[:16].reshape(4, 4), v[16])"
   ],
   "metadata": {
    "collapsed": false
   }
  }
 ],
 "metadata": {
  "kernelspec": {
   "display_name": "Python 3",
   "language": "python",
   "name": "python3"
  },
  "language_info": {
   "codemirror_mode": {
    "name": "ipython",
    "version": 2
   },
   "file_extension": ".py",
   "mimetype": "text/x-python",
   "name": "python",
   "nbconvert_exporter": "python",
   "pygments_lexer": "ipython2",
   "version": "2.7.6"
  }
 },
 "nbformat": 4,
 "nbformat_minor": 0
}
