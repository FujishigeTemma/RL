{
 "cells": [
  {
   "cell_type": "code",
   "execution_count": 116,
   "metadata": {},
   "outputs": [],
   "source": [
    "import numpy as np\n",
    "from typing import List, Tuple\n",
    "from dataclasses import dataclass\n",
    "import matplotlib.pyplot as plt\n",
    "import seaborn as sns"
   ]
  },
  {
   "cell_type": "code",
   "execution_count": 131,
   "metadata": {},
   "outputs": [],
   "source": [
    "@dataclass\n",
    "class EpsilonGreedyAgent:\n",
    "    e: float\n",
    "    Q: np.ndarray\n",
    "    _Q: np.ndarray\n",
    "    count_selected: np.ndarray\n",
    "\n",
    "    history: np.ndarray\n",
    "\n",
    "    N = 1\n",
    "\n",
    "    def act(self):\n",
    "        # explore\n",
    "        if np.random.rand() < self.e:\n",
    "          action = np.random.choice(range(len(self.Q)))\n",
    "        \n",
    "        # exploit\n",
    "        else:\n",
    "          action = np.random.choice(np.flatnonzero(self.Q == self.Q.max()))\n",
    "        \n",
    "        self.N += 1\n",
    "        self.count_selected[action] += 1\n",
    "\n",
    "        return action\n",
    "    \n",
    "    def update(self, action, reward):\n",
    "        # Q[a, n+1] = Q[a, n] + (R - Q[a, n]) / n \n",
    "        self._Q[action] += reward\n",
    "        # self.Q[action] = self.Q[action] + (reward - self.Q[action]) / self.N\n",
    "        self.Q[action] = self._Q[action] / self.count_selected[action]\n",
    "        self.history[self.N-2] = self.Q"
   ]
  },
  {
   "cell_type": "code",
   "execution_count": 118,
   "metadata": {},
   "outputs": [],
   "source": [
    "@dataclass\n",
    "class Testbed:\n",
    "  N_Trials: int\n",
    "  arms: List[Tuple[float, float]]\n",
    "  \n",
    "  stability = 1.0\n",
    "  update_arms = lambda self: []\n",
    "\n",
    "  def get_reward(self, arm):\n",
    "    return np.random.normal(self.arms[arm][0], self.arms[arm][1])\n",
    "\n",
    "  def run(self, agent: EpsilonGreedyAgent):\n",
    "    rewards = np.zeros(self.N_Trials)\n",
    "    for i in range(self.N_Trials):\n",
    "      action = agent.act()\n",
    "      reward = self.get_reward(action)\n",
    "      agent.update(action, reward)\n",
    "      rewards[i] = reward\n",
    "    return rewards"
   ]
  },
  {
   "cell_type": "code",
   "execution_count": 137,
   "metadata": {},
   "outputs": [
    {
     "data": {
      "image/png": "[encoded data removed]",
      "text/plain": [
       "<Figure size 432x288 with 1 Axes>"
      ]
     },
     "metadata": {
      "needs_background": "light"
     },
     "output_type": "display_data"
    }
   ],
   "source": [
    "history = np.zeros(1000)\n",
    "\n",
    "n_arm = 10\n",
    "optimism = 5\n",
    "\n",
    "for i in range(200):\n",
    "  agent = EpsilonGreedyAgent(0, np.ones(n_arm) * optimism, np.ones(n_arm) * optimism, np.zeros(n_arm), np.zeros((1000, n_arm)))\n",
    "  testbed = Testbed(1000, [(np.random.normal(0, 1), 1) for _ in range(n_arm)])\n",
    "\n",
    "  rewards = testbed.run(agent)\n",
    "\n",
    "  avg_rewards = np.cumsum(rewards) / (np.array(range(1000)) + 1)\n",
    "\n",
    "  history += avg_rewards\n",
    "\n",
    "sns.lineplot(data=history/200)\n",
    "plt.show();\n"
   ]
  },
  {
   "cell_type": "code",
   "execution_count": 138,
   "metadata": {},
   "outputs": [
    {
     "data": {
      "image/png": "[encoded data removed]",
      "text/plain": [
       "<Figure size 432x288 with 1 Axes>"
      ]
     },
     "metadata": {
      "needs_background": "light"
     },
     "output_type": "display_data"
    }
   ],
   "source": [
    "sns.lineplot(data=history[:50]/200)\n",
    "plt.show();\n"
   ]
  }
 ],
 "metadata": {
  "kernelspec": {
   "display_name": "Python 3.10.7 64-bit",
   "language": "python",
   "name": "python3"
  },
  "language_info": {
   "codemirror_mode": {
    "name": "ipython",
    "version": 3
   },
   "file_extension": ".py",
   "mimetype": "text/x-python",
   "name": "python",
   "nbconvert_exporter": "python",
   "pygments_lexer": "ipython3",
   "version": "3.10.8 (main, Nov 15 2022, 05:25:54) [Clang 14.0.0 (clang-1400.0.29.202)]"
  },
  "orig_nbformat": 4,
  "vscode": {
   "interpreter": {
    "hash": "aee8b7b246df8f9039afb4144a1f6fd8d2ca17a180786b69acc140d282b71a49"
   }
  }
 },
 "nbformat": 4,
 "nbformat_minor": 2
}
