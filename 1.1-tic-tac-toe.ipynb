{
 "cells": [
  {
   "cell_type": "code",
   "execution_count": null,
   "metadata": {},
   "outputs": [],
   "source": [
    "import itertools\n",
    "from typing import List, Dict\n",
    "from dataclasses import dataclass\n",
    "import numpy as np\n",
    "\n",
    "BoardHash = str\n",
    "Mark = int\n",
    "\n",
    "@dataclass\n",
    "class Board:\n",
    "    current: np.ndarray # 3x3 board\n",
    "\n",
    "    def hash(self, state: List[List[int]]) -> BoardHash:\n",
    "        return \"\".join(map(str, self.current.flatten()))\n",
    "\n",
    "    def get_empty_cells(self):\n",
    "        return [[x, y] for x in range(3) for y in range(3) if self.current[x, y] == 0]\n",
    "\n",
    "    def is_end(self) -> bool:\n",
    "        for x in range(3):\n",
    "            mark = self.current[x, 0]\n",
    "            if all(self.current == mark):\n",
    "                return True\n",
    "        for y in range(3):\n",
    "            mark = self.current[0, y]\n",
    "            if all(self.current == mark):\n",
    "                return True\n",
    "\n",
    "        if all(self.current[i, i] == self.current[1, 1] for i in range(3)):\n",
    "            return True\n",
    "        if all(self.current[i, 2 - i] == self.current[1, 1] for i in range(3)):\n",
    "            return True\n",
    "\n",
    "        return False\n",
    "\n",
    "    def print(self):\n",
    "        print(self.current)\n",
    "\n",
    "EmptyBoard = Board(np.array([[0, 0, 0], [0, 0, 0], [0, 0, 0]]))\n",
    "\n",
    "@dataclass\n",
    "class Agent:\n",
    "    mark: int\n",
    "    policy: Dict[str, float]\n",
    "    testing: bool\n",
    "\n",
    "    def get_action(self, board: Board) -> int:\n",
    "        available_cells = board.get_empty_cells()\n",
    "        for cell in available_cells:\n",
    "            next = board.current.copy()\n",
    "            next[cell.y][cell.x] = self.mark\n",
    "            if board.hash(next) in self.policy:\n",
    "                candidates[i] = (i, self.policy[board.hash(next)])\n",
    "        # TODO: 探索\n",
    "        return max(candidates, key=lambda x: x[1])[0]\n",
    "\n",
    "    def update_policy(self, board: Board, value: int) -> None:\n",
    "        self.policy[board.hash(board.current)] = value\n",
    "\n",
    "\n",
    "for i in range(1000):\n",
    "    board = EmptyBoard\n",
    "    agent1 = Agent(1)\n",
    "    agent2 = Agent(2)\n"
   ]
  },
  {
   "cell_type": "code",
   "execution_count": null,
   "metadata": {},
   "outputs": [],
   "source": []
  }
 ],
 "metadata": {
  "kernelspec": {
   "display_name": "Python 3.10.7 64-bit",
   "language": "python",
   "name": "python3"
  },
  "language_info": {
   "codemirror_mode": {
    "name": "ipython",
    "version": 3
   },
   "file_extension": ".py",
   "mimetype": "text/x-python",
   "name": "python",
   "nbconvert_exporter": "python",
   "pygments_lexer": "ipython3",
   "version": "3.10.7"
  },
  "orig_nbformat": 4,
  "vscode": {
   "interpreter": {
    "hash": "aee8b7b246df8f9039afb4144a1f6fd8d2ca17a180786b69acc140d282b71a49"
   }
  }
 },
 "nbformat": 4,
 "nbformat_minor": 2
}
